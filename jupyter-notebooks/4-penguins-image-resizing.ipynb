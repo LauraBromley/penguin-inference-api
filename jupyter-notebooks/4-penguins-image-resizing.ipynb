{
 "cells": [
  {
   "cell_type": "markdown",
   "metadata": {},
   "source": [
    "# Manual image resizing\n",
    "\n",
    "In order to improve the penguin classifier, can we start off with a better set of images, to avoid features being cropped or squashed.\n",
    "\n",
    "Theory \n",
    "* if image is portrait crop to top\n",
    "* if image is landscape crop to center"
   ]
  },
  {
   "cell_type": "code",
   "execution_count": 1,
   "metadata": {},
   "outputs": [],
   "source": [
    "from fastai.vision import *\n",
    "from PIL import Image\n",
    "import os"
   ]
  },
  {
   "cell_type": "code",
   "execution_count": 67,
   "metadata": {},
   "outputs": [],
   "source": [
    "# crop landscape image to square\n",
    "def crop_landscape_to_square_center(image, width, height, new_path):\n",
    "    new_width = height\n",
    "    side_crop = (width - new_width)//2\n",
    "    w1 = side_crop\n",
    "    h1 = 0\n",
    "    w2 = width - side_crop\n",
    "    h2 = height\n",
    "    crop_rectangle = (w1, h1, w2, h2)\n",
    "    cropped_img = image.crop(crop_rectangle) \n",
    "    cropped_img.save(new_path)"
   ]
  },
  {
   "cell_type": "code",
   "execution_count": 68,
   "metadata": {},
   "outputs": [],
   "source": [
    "# crop portrait image to square\n",
    "def crop_portrait_to_square_top(image, width, height, new_path):\n",
    "    w1 = 0\n",
    "    h1 = 0\n",
    "    w2 = width\n",
    "    h2 = width\n",
    "    crop_rectangle = (w1, h1, w2, h2)\n",
    "    cropped_img = image.crop(crop_rectangle) \n",
    "    cropped_img.save(new_path)"
   ]
  },
  {
   "cell_type": "code",
   "execution_count": 76,
   "metadata": {},
   "outputs": [],
   "source": [
    "# determine which crop\n",
    "def crop_image(image_path, new_path):\n",
    "    image = PIL.Image.open(image_path)\n",
    "    w = image.width\n",
    "    h = image.height\n",
    "    if (w == h):\n",
    "        print('already square', image_path)\n",
    "        image.save(new_path)\n",
    "    if w >= h:\n",
    "        #print('landscape')\n",
    "        crop_landscape_to_square_center(image, w, h, new_path)   \n",
    "    else:\n",
    "        #print('portait')\n",
    "        crop_portrait_to_square_top(image, w, h, new_path)   "
   ]
  },
  {
   "cell_type": "code",
   "execution_count": 60,
   "metadata": {},
   "outputs": [],
   "source": [
    "def make_directory(dir):\n",
    "    if not os.path.exists(dir):\n",
    "        os.mkdir(dir)"
   ]
  },
  {
   "cell_type": "code",
   "execution_count": 78,
   "metadata": {},
   "outputs": [
    {
     "name": "stdout",
     "output_type": "stream",
     "text": [
      "data\\penguins\\adelie data\\penguins_crop\\adelie\n",
      "already square data\\penguins\\adelie\\00000041.jpg\n",
      "already square data\\penguins\\adelie\\00000194.jpg\n",
      "already square data\\penguins\\adelie\\00000198_1.jpg\n",
      "data\\penguins\\african data\\penguins_crop\\african\n",
      "already square data\\penguins\\african\\00000065.jpg\n",
      "data\\penguins\\chinstrap data\\penguins_crop\\chinstrap\n",
      "already square data\\penguins\\chinstrap\\00000048.jpg\n",
      "already square data\\penguins\\chinstrap\\00000189.jpg\n",
      "data\\penguins\\emperor data\\penguins_crop\\emperor\n",
      "already square data\\penguins\\emperor\\00000028.jpg\n",
      "already square data\\penguins\\emperor\\00000066.jpeg\n",
      "already square data\\penguins\\emperor\\00000070.jpg\n",
      "already square data\\penguins\\emperor\\00000116.jpg\n",
      "already square data\\penguins\\emperor\\00000138.jpeg\n",
      "already square data\\penguins\\emperor\\00000187.jpg\n",
      "data\\penguins\\erect_crested data\\penguins_crop\\erect_crested\n",
      "already square data\\penguins\\erect_crested\\00000047.jpg\n",
      "already square data\\penguins\\erect_crested\\00000072.jpg\n",
      "already square data\\penguins\\erect_crested\\00000075.jpg\n",
      "already square data\\penguins\\erect_crested\\00000145.jpg\n",
      "already square data\\penguins\\erect_crested\\00000196.jpg\n",
      "data\\penguins\\fiordland data\\penguins_crop\\fiordland\n",
      "already square data\\penguins\\fiordland\\00000182.jpg\n",
      "data\\penguins\\galapagos data\\penguins_crop\\galapagos\n",
      "already square data\\penguins\\galapagos\\00000103.png\n",
      "already square data\\penguins\\galapagos\\00000165.jpg\n",
      "data\\penguins\\gentoo data\\penguins_crop\\gentoo\n",
      "already square data\\penguins\\gentoo\\00000035.JPG\n",
      "already square data\\penguins\\gentoo\\00000082.jpg\n",
      "already square data\\penguins\\gentoo\\00000092.jpg\n",
      "data\\penguins\\humboldt data\\penguins_crop\\humboldt\n",
      "already square data\\penguins\\humboldt\\00000104.jpg\n",
      "already square data\\penguins\\humboldt\\00000111.jpg\n",
      "already square data\\penguins\\humboldt\\00000133.png\n",
      "already square data\\penguins\\humboldt\\00000152.jpg\n",
      "already square data\\penguins\\humboldt\\00000195.jpg\n",
      "data\\penguins\\king data\\penguins_crop\\king\n",
      "already square data\\penguins\\king\\00000145.jpg\n",
      "already square data\\penguins\\king\\00000172.jpg\n",
      "data\\penguins\\little data\\penguins_crop\\little\n",
      "already square data\\penguins\\little\\00000008.jpg\n",
      "already square data\\penguins\\little\\00000138.jpg\n",
      "already square data\\penguins\\little\\00000142.jpg\n",
      "data\\penguins\\macaroni data\\penguins_crop\\macaroni\n",
      "already square data\\penguins\\macaroni\\00000048.jpg\n",
      "already square data\\penguins\\macaroni\\00000112.jpg\n",
      "already square data\\penguins\\macaroni\\00000128.jpeg\n",
      "data\\penguins\\magellanic data\\penguins_crop\\magellanic\n",
      "already square data\\penguins\\magellanic\\00000192.jpg\n",
      "data\\penguins\\rockhopper data\\penguins_crop\\rockhopper\n",
      "already square data\\penguins\\rockhopper\\00000049.jpg\n",
      "already square data\\penguins\\rockhopper\\00000053.png\n",
      "already square data\\penguins\\rockhopper\\00000059.jpg\n",
      "already square data\\penguins\\rockhopper\\00000060.jpg\n",
      "already square data\\penguins\\rockhopper\\00000092.jpg\n",
      "already square data\\penguins\\rockhopper\\00000160.jpg\n",
      "data\\penguins\\royal data\\penguins_crop\\royal\n",
      "already square data\\penguins\\royal\\00000159.jpg\n",
      "data\\penguins\\snares data\\penguins_crop\\snares\n",
      "already square data\\penguins\\snares\\00000001.jpg\n",
      "already square data\\penguins\\snares\\00000067.jpg\n",
      "already square data\\penguins\\snares\\00000100.jpg\n",
      "data\\penguins\\yellow_eyed data\\penguins_crop\\yellow_eyed\n",
      "already square data\\penguins\\yellow_eyed\\00000165.jpg\n",
      "already square data\\penguins\\yellow_eyed\\00000181_1.jpg\n",
      "already square data\\penguins\\yellow_eyed\\00000195.jpg\n"
     ]
    }
   ],
   "source": [
    "path = 'data\\\\penguins'\n",
    "new_path = 'data\\\\penguins_crop'\n",
    "for p_dir in os.listdir(path):\n",
    "    if not p_dir.startswith('models') and not p_dir.endswith('.txt'):\n",
    "        full_path = os.path.join(path, p_dir)\n",
    "        new_dir_path = os.path.join(new_path, p_dir)\n",
    "        print(full_path, new_dir_path)\n",
    "        make_directory(new_dir_path)\n",
    "        for p_img in os.listdir(full_path):\n",
    "            image_path = os.path.join(full_path, p_img)\n",
    "            new_image_path = os.path.join(new_dir_path,p_img)\n",
    "            #print('image_path', image_path, new_image_path)\n",
    "            crop_image(image_path, new_image_path)"
   ]
  }
 ],
 "metadata": {
  "kernelspec": {
   "display_name": "Python 3",
   "language": "python",
   "name": "python3"
  },
  "language_info": {
   "codemirror_mode": {
    "name": "ipython",
    "version": 3
   },
   "file_extension": ".py",
   "mimetype": "text/x-python",
   "name": "python",
   "nbconvert_exporter": "python",
   "pygments_lexer": "ipython3",
   "version": "3.7.3"
  }
 },
 "nbformat": 4,
 "nbformat_minor": 2
}
